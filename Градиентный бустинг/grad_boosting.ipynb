{
 "cells": [
  {
   "cell_type": "markdown",
   "metadata": {},
   "source": [
    "# Градиентный бустинг своими руками\n",
    "\n",
    "**Внимание:** в тексте задания произошли изменения - поменялось число деревьев (теперь 50), правило изменения величины шага в задании 3 и добавился параметр `random_state` у решающего дерева. Правильные ответы не поменялись, но теперь их проще получить. Также исправлена опечатка в функции `gbm_predict`.\n",
    "\n",
    "В этом задании будет использоваться датасет `boston` из `sklearn.datasets`. Оставьте последние 25% объектов для контроля качества, разделив `X` и `y` на `X_train`, `y_train` и `X_test`, `y_test`.\n",
    "\n",
    "Целью задания будет реализовать простой вариант градиентного бустинга над регрессионными деревьями для случая квадратичной функции потерь."
   ]
  },
  {
   "cell_type": "code",
   "execution_count": 1,
   "metadata": {},
   "outputs": [
    {
     "name": "stderr",
     "output_type": "stream",
     "text": [
      "C:\\Anaconda2\\lib\\site-packages\\sklearn\\cross_validation.py:41: DeprecationWarning: This module was deprecated in version 0.18 in favor of the model_selection module into which all the refactored classes and functions are moved. Also note that the interface of the new CV iterators are different from that of this module. This module will be removed in 0.20.\n",
      "  \"This module will be removed in 0.20.\", DeprecationWarning)\n"
     ]
    }
   ],
   "source": [
    "from sklearn.datasets import load_boston\n",
    "import numpy as np\n",
    "import pandas as pd\n",
    "from sklearn import cross_validation, tree, metrics"
   ]
  },
  {
   "cell_type": "code",
   "execution_count": 4,
   "metadata": {},
   "outputs": [],
   "source": [
    "boston = load_boston()\n",
    "X = boston.data\n",
    "Y = boston.target\n",
    "X_train = X[:int(X.shape[0]*0.75),:]\n",
    "X_test = X[int(X.shape[0]*0.75):,:]\n",
    "y_train = Y[:int(X.shape[0]*0.75)]\n",
    "y_test = Y[int(X.shape[0]*0.75):]"
   ]
  },
  {
   "cell_type": "markdown",
   "metadata": {},
   "source": [
    "## Задание 1\n",
    "\n",
    "Как вы уже знаете из лекций, **бустинг** - это метод построения композиций базовых алгоритмов с помощью последовательного добавления к текущей композиции нового алгоритма с некоторым коэффициентом. \n",
    "\n",
    "Градиентный бустинг обучает каждый новый алгоритм так, чтобы он приближал антиградиент ошибки по ответам композиции на обучающей выборке. Аналогично минимизации функций методом градиентного спуска, в градиентном бустинге мы подправляем композицию, изменяя алгоритм в направлении антиградиента ошибки.\n",
    "\n",
    "Воспользуйтесь формулой из лекций, задающей ответы на обучающей выборке, на которые нужно обучать новый алгоритм (фактически это лишь чуть более подробно расписанный градиент от ошибки), и получите частный ее случай, если функция потерь `L` - квадрат отклонения ответа композиции `a(x)` от правильного ответа `y` на данном `x`.\n",
    "\n",
    "Если вы давно не считали производную самостоятельно, вам поможет таблица производных элементарных функций (которую несложно найти в интернете) и правило дифференцирования сложной функции. После дифференцирования квадрата у вас возникнет множитель 2 — т.к. нам все равно предстоит выбирать коэффициент, с которым будет добавлен новый базовый алгоритм, проигноируйте этот множитель при дальнейшем построении алгоритма."
   ]
  },
  {
   "cell_type": "code",
   "execution_count": null,
   "metadata": {
    "collapsed": true
   },
   "outputs": [],
   "source": []
  },
  {
   "cell_type": "markdown",
   "metadata": {},
   "source": [
    "## Задание 2\n",
    "\n",
    "Заведите массив для объектов `DecisionTreeRegressor` (будем их использовать в качестве базовых алгоритмов) и для вещественных чисел (это будут коэффициенты перед базовыми алгоритмами). \n",
    "\n",
    "В цикле от обучите последовательно 50 решающих деревьев с параметрами `max_depth=5` и `random_state=42` (остальные параметры - по умолчанию). В бустинге зачастую используются сотни и тысячи деревьев, но мы ограничимся 50, чтобы алгоритм работал быстрее, и его было проще отлаживать (т.к. цель задания разобраться, как работает метод). Каждое дерево должно обучаться на одном и том же множестве объектов, но ответы, которые учится прогнозировать дерево, будут меняться в соответствие с полученным в задании 1 правилом. \n",
    "\n",
    "Попробуйте для начала всегда брать коэффициент равным 0.9. Обычно оправдано выбирать коэффициент значительно меньшим - порядка 0.05 или 0.1, но т.к. в нашем учебном примере на стандартном датасете будет всего 50 деревьев, возьмем для начала шаг побольше.\n",
    "\n",
    "В процессе реализации обучения вам потребуется функция, которая будет вычислять прогноз построенной на данный момент композиции деревьев на выборке `X`:\n",
    "\n",
    "```\n",
    "def gbm_predict(X):\n",
    "    return [sum([coeff * algo.predict([x])[0] for algo, coeff in zip(base_algorithms_list, coefficients_list)]) for x in X]\n",
    "(считаем, что base_algorithms_list - список с базовыми алгоритмами, coefficients_list - список с коэффициентами перед алгоритмами)\n",
    "```\n",
    "\n",
    "Эта же функция поможет вам получить прогноз на контрольной выборке и оценить качество работы вашего алгоритма с помощью `mean_squared_error` в `sklearn.metrics`. \n",
    "\n",
    "Возведите результат в степень 0.5, чтобы получить `RMSE`. Полученное значение `RMSE` — **ответ в пункте 2**."
   ]
  },
  {
   "cell_type": "code",
   "execution_count": 5,
   "metadata": {
    "collapsed": true
   },
   "outputs": [],
   "source": [
    "def gbm_predict(X):\n",
    "    return [sum([coeff * algo.predict([x])[0] for algo, coeff in zip(basics, ws)]) for x in X]"
   ]
  },
  {
   "cell_type": "code",
   "execution_count": 6,
   "metadata": {
    "collapsed": true
   },
   "outputs": [],
   "source": [
    "basics = []\n",
    "ws = []\n",
    "y_cur = np.array(y_train)\n",
    "for i in range(50):\n",
    "    regr = tree.DecisionTreeRegressor(max_depth=5, random_state=42).fit(X_train, y_cur)\n",
    "    basics.append(regr)\n",
    "    ws.append(0.9)\n",
    "    y_cur = y_train - gbm_predict(X_train)"
   ]
  },
  {
   "cell_type": "code",
   "execution_count": 7,
   "metadata": {},
   "outputs": [
    {
     "data": {
      "text/plain": [
       "[14.078512377151375,\n",
       " 15.487864741644511,\n",
       " 14.136095980085559,\n",
       " 15.706221564579131,\n",
       " 15.114453412890773,\n",
       " 17.07854208356321,\n",
       " 15.36294207271677,\n",
       " 15.372671301448255,\n",
       " 17.741313170238485,\n",
       " 15.41355768446858,\n",
       " 14.456994570928947,\n",
       " 15.773972215147941,\n",
       " 18.312219425594183,\n",
       " 15.413900779184758,\n",
       " 21.658881284367091,\n",
       " 16.375248741129333,\n",
       " 14.998938845848151,\n",
       " 14.063185553087875,\n",
       " 15.155909404482522,\n",
       " 16.066291931469824,\n",
       " 17.779401628905635,\n",
       " 15.736423492039815,\n",
       " 13.876935518260241,\n",
       " 14.073808950752511,\n",
       " 15.442171971590989,\n",
       " 16.870344926894006,\n",
       " 16.299587933756825,\n",
       " 14.102480329532984,\n",
       " 21.489864331787238,\n",
       " 14.901617741099548,\n",
       " 13.88148729671309,\n",
       " 21.863318180355286,\n",
       " 13.115910432467064,\n",
       " 14.903547188737395,\n",
       " 14.94967113444209,\n",
       " 14.874090294938334,\n",
       " 13.147139072774754,\n",
       " 13.762799337308792,\n",
       " 17.151697695663557,\n",
       " 15.06958108469953,\n",
       " 16.25777846193699,\n",
       " 19.334623305674821,\n",
       " 19.774863120118571,\n",
       " 22.148697624304472,\n",
       " 15.834009014545119,\n",
       " 19.769742934156319,\n",
       " 15.098792367856772,\n",
       " 23.504167645204681,\n",
       " 22.918504060606509,\n",
       " 16.844401532227444,\n",
       " 13.045227138019888,\n",
       " 16.113142011225683,\n",
       " 14.028918252856176,\n",
       " 25.83760992199819,\n",
       " 16.604208199672271,\n",
       " 20.956452206226587,\n",
       " 13.889376125971161,\n",
       " 13.586878437224494,\n",
       " 14.807850552264426,\n",
       " 16.177907853925486,\n",
       " 17.261269859960805,\n",
       " 16.139393504652563,\n",
       " 15.546197184496977,\n",
       " 15.183581339078408,\n",
       " 15.687026395326347,\n",
       " 15.44501576254879,\n",
       " 14.021193175983871,\n",
       " 15.34436071720442,\n",
       " 16.688128127211371,\n",
       " 15.837689901594555,\n",
       " 15.468806272003391,\n",
       " 15.446533536532247,\n",
       " 16.388758298588115,\n",
       " 16.362753762174844,\n",
       " 31.237466238497952,\n",
       " 14.198455134027153,\n",
       " 16.476419505659425,\n",
       " 17.203240014694732,\n",
       " 18.56978037303266,\n",
       " 16.674251165756861,\n",
       " 22.039314882374999,\n",
       " 15.75034268197969,\n",
       " 22.008486436232921,\n",
       " 22.122430270640855,\n",
       " 23.190083125050592,\n",
       " 24.576906196992542,\n",
       " 22.808996719088846,\n",
       " 16.937615945781076,\n",
       " 15.192386236723141,\n",
       " 19.741512889725993,\n",
       " 23.845485373669622,\n",
       " 16.760631137831513,\n",
       " 23.642547717604806,\n",
       " 23.137931536884153,\n",
       " 36.170097815412305,\n",
       " 15.8393594742457,\n",
       " 15.238568205246905,\n",
       " 15.320215844719883,\n",
       " 15.728321448056994,\n",
       " 17.061365055078806,\n",
       " 24.304178724163997,\n",
       " 24.503532718471899,\n",
       " 29.812722144372795,\n",
       " 33.985447867037507,\n",
       " 22.968539454462608,\n",
       " 23.741941624270911,\n",
       " 22.754612151338918,\n",
       " 24.621271991997748,\n",
       " 23.44274898847662,\n",
       " 18.510952923585702,\n",
       " 15.321178847459766,\n",
       " 14.901263023044731,\n",
       " 16.201732687236888,\n",
       " 17.416143316241804,\n",
       " 19.567930387735554,\n",
       " 17.751839840836706,\n",
       " 18.729421065568005,\n",
       " 20.991195302811452,\n",
       " 20.247351964218293,\n",
       " 19.748854570118098,\n",
       " 20.499822943223268,\n",
       " 20.01123957076079,\n",
       " 29.218842434166895,\n",
       " 17.767605822289742,\n",
       " 30.111656551674173,\n",
       " 31.157663820039414,\n",
       " 17.20758958276129]"
      ]
     },
     "execution_count": 7,
     "metadata": {},
     "output_type": "execute_result"
    }
   ],
   "source": [
    "gbm_predict(X_test)"
   ]
  },
  {
   "cell_type": "code",
   "execution_count": 8,
   "metadata": {},
   "outputs": [
    {
     "data": {
      "text/plain": [
       "5.4766509741689484"
      ]
     },
     "execution_count": 8,
     "metadata": {},
     "output_type": "execute_result"
    }
   ],
   "source": [
    "np.sqrt(metrics.mean_squared_error(y_test, gbm_predict(X_test)))"
   ]
  },
  {
   "cell_type": "markdown",
   "metadata": {},
   "source": [
    "## Задание 3\n",
    "\n",
    "Вас может также беспокоить, что двигаясь с постоянным шагом, вблизи минимума ошибки ответы на обучающей выборке меняются слишком резко, перескакивая через минимум. \n",
    "\n",
    "Попробуйте уменьшать вес перед каждым алгоритмом с каждой следующей итерацией по формуле `0.9 / (1.0 + i)`, где `i` - номер итерации (от 0 до 49). Используйте качество работы алгоритма как **ответ в пункте 3**. \n",
    "\n",
    "В реальности часто применяется следующая стратегия выбора шага: как только выбран алгоритм, подберем коэффициент перед ним численным методом оптимизации таким образом, чтобы отклонение от правильных ответов было минимальным. Мы не будем предлагать вам реализовать это для выполнения задания, но рекомендуем попробовать разобраться с такой стратегией и реализовать ее при случае для себя."
   ]
  },
  {
   "cell_type": "code",
   "execution_count": 9,
   "metadata": {},
   "outputs": [
    {
     "name": "stdout",
     "output_type": "stream",
     "text": [
      "[0.9, 0.45, 0.3, 0.225, 0.18, 0.15, 0.1285714285714286, 0.1125, 0.1, 0.09, 0.9, 0.45, 0.3, 0.225, 0.18, 0.15, 0.1285714285714286, 0.1125, 0.1, 0.09, 0.9, 0.45, 0.3, 0.225, 0.18, 0.15, 0.1285714285714286, 0.1125, 0.1, 0.09, 0.9, 0.45, 0.3, 0.225, 0.18, 0.15, 0.1285714285714286, 0.1125, 0.1, 0.09, 0.9, 0.45, 0.3, 0.225, 0.18, 0.15, 0.1285714285714286, 0.1125, 0.1, 0.09]\n"
     ]
    }
   ],
   "source": [
    "basics = []\n",
    "ws = []\n",
    "y_cur = np.array(y_train)\n",
    "for i in range(50):\n",
    "    regr = tree.DecisionTreeRegressor(max_depth=5, random_state=42).fit(X_train, y_cur)\n",
    "    basics.append(regr)\n",
    "    ws.append(0.9/(1.0+i%10))\n",
    "    y_cur = y_train - gbm_predict(X_train)\n",
    "\n",
    "print(ws)"
   ]
  },
  {
   "cell_type": "code",
   "execution_count": 10,
   "metadata": {},
   "outputs": [
    {
     "data": {
      "text/plain": [
       "4.9284335307034981"
      ]
     },
     "execution_count": 10,
     "metadata": {},
     "output_type": "execute_result"
    }
   ],
   "source": [
    "np.sqrt(metrics.mean_squared_error(y_test, gbm_predict(X_test)))"
   ]
  },
  {
   "cell_type": "markdown",
   "metadata": {},
   "source": [
    "## Задание 4\n",
    "\n",
    "Реализованный вами метод - градиентный бустинг над деревьями - очень популярен в машинном обучении. Он представлен как в самой библиотеке `sklearn`, так и в сторонней библиотеке `XGBoost`, которая имеет свой питоновский интерфейс. На практике `XGBoost` работает заметно лучше `GradientBoostingRegressor` из `sklearn`, но для этого задания вы можете использовать любую реализацию. \n",
    "\n",
    "Исследуйте, переобучается ли градиентный бустинг с ростом числа итераций (и подумайте, почему), а также с ростом глубины деревьев. На основе наблюдений выпишите через пробел номера правильных из приведенных ниже утверждений в порядке возрастания номера (это будет **ответ в п.4**):\n",
    "\n",
    "    1. С увеличением числа деревьев, начиная с некоторого момента, качество работы градиентного бустинга не меняется существенно.\n",
    "\n",
    "    2. С увеличением числа деревьев, начиная с некоторого момента, градиентный бустинг начинает переобучаться.\n",
    "\n",
    "    3. С ростом глубины деревьев, начиная с некоторого момента, качество работы градиентного бустинга на тестовой выборке начинает ухудшаться.\n",
    "\n",
    "    4. С ростом глубины деревьев, начиная с некоторого момента, качество работы градиентного бустинга перестает существенно изменяться"
   ]
  },
  {
   "cell_type": "code",
   "execution_count": 11,
   "metadata": {},
   "outputs": [
    {
     "name": "stdout",
     "output_type": "stream",
     "text": [
      "Populating the interactive namespace from numpy and matplotlib\n"
     ]
    }
   ],
   "source": [
    "from sklearn.ensemble import GradientBoostingRegressor\n",
    "%pylab inline"
   ]
  },
  {
   "cell_type": "code",
   "execution_count": 12,
   "metadata": {},
   "outputs": [
    {
     "name": "stdout",
     "output_type": "stream",
     "text": [
      "[8.8140385834775916, 7.4519049493353506, 6.7522891557278406]\n",
      "[8.2617228931868549, 6.680039215523534, 5.8192098489459578]\n",
      "[8.436391618751891, 6.9423814364068095, 6.142216262313819]\n",
      "[8.7010135212469564, 7.3800253676538983, 6.6712927520260115]\n",
      "[8.6172341033509774, 7.1007828828259365, 6.4111697182257625]\n",
      "[8.6821913040119956, 7.3510296785250313, 6.6243348847655978]\n",
      "Wall time: 6.12 s\n"
     ]
    },
    {
     "data": {
      "image/png": "[encoded data removed]",
      "text/plain": [
       "<matplotlib.figure.Figure at 0xcf712b0>"
      ]
     },
     "metadata": {},
     "output_type": "display_data"
    }
   ],
   "source": [
    "%%time\n",
    "trees = np.array([5, 10, 15, 20, 30, 40, 50, 60, 70, 100])\n",
    "depths = np.array([3, 5, 7, 10, 15, 22])\n",
    "pyplot.figure(figsize=(16, 11))\n",
    "i = 1\n",
    "for d in depths:\n",
    "    scores_train = []\n",
    "    scores_test = []\n",
    "    for num in trees:\n",
    "        boost = GradientBoostingRegressor(n_estimators=num, max_depth=d, random_state=42).fit(X_train, y_train)\n",
    "        scores_train.append(np.sqrt(metrics.mean_squared_error(y_train, boost.predict(X_train))))\n",
    "        scores_test.append(np.sqrt(metrics.mean_squared_error(y_test, boost.predict(X_test))))\n",
    "    print(scores_test[:3])\n",
    "    ax = plt.subplot(5, 5, i)\n",
    "    ax.set_title(\"forest {} depth\".format(d))\n",
    "    pyplot.plot(trees, scores_train, color=\"red\", label=\"train\")\n",
    "    pyplot.plot(trees, scores_test, color=\"blue\", label=\"test\")\n",
    "    pyplot.xlabel(\"trees\")\n",
    "    pyplot.ylabel(\"score\")\n",
    "    pyplot.legend()\n",
    "    i += 1"
   ]
  },
  {
   "cell_type": "markdown",
   "metadata": {},
   "source": [
    "## Задание 5\n",
    "\n",
    "Сравните получаемое с помощью градиентного бустинга качество с качеством работы линейной регрессии. \n",
    "\n",
    "Для этого обучите `LinearRegression` из `sklearn.linear_model` (с параметрами по умолчанию) на обучающей выборке и оцените для прогнозов полученного алгоритма на тестовой выборке `RMSE`. Полученное качество - ответ в **пункте 5**. \n",
    "\n",
    "В данном примере качество работы простой модели должно было оказаться хуже, но не стоит забывать, что так бывает не всегда. В заданиях к этому курсу вы еще встретите пример обратной ситуации."
   ]
  },
  {
   "cell_type": "code",
   "execution_count": 13,
   "metadata": {
    "collapsed": true
   },
   "outputs": [],
   "source": [
    "from sklearn.linear_model import LinearRegression"
   ]
  },
  {
   "cell_type": "code",
   "execution_count": 14,
   "metadata": {},
   "outputs": [
    {
     "data": {
      "text/plain": [
       "8.2704680349382134"
      ]
     },
     "execution_count": 14,
     "metadata": {},
     "output_type": "execute_result"
    }
   ],
   "source": [
    "lin = LinearRegression().fit(X_train, y_train)\n",
    "pred = lin.predict(X_test)\n",
    "np.sqrt(metrics.mean_squared_error(y_test, pred))"
   ]
  }
 ],
 "metadata": {
  "kernelspec": {
   "display_name": "Python 2",
   "language": "python",
   "name": "python2"
  },
  "language_info": {
   "codemirror_mode": {
    "name": "ipython",
    "version": 2
   },
   "file_extension": ".py",
   "mimetype": "text/x-python",
   "name": "python",
   "nbconvert_exporter": "python",
   "pygments_lexer": "ipython2",
   "version": "2.7.14"
  }
 },
 "nbformat": 4,
 "nbformat_minor": 1
}
